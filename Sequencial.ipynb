{
  "nbformat": 4,
  "nbformat_minor": 0,
  "metadata": {
    "colab": {
      "provenance": [],
      "authorship_tag": "ABX9TyM7RPDtxK7uKK6ydKyOahr2"
    },
    "kernelspec": {
      "name": "python3",
      "display_name": "Python 3"
    },
    "language_info": {
      "name": "python"
    }
  },
  "cells": [
    {
      "cell_type": "code",
      "execution_count": 1,
      "metadata": {
        "id": "7BP0OFn3XaMc"
      },
      "outputs": [],
      "source": [
        "#testes com input e print#\n",
        "\n",
        "x = input()\n",
        "print(x)\n",
        "print(x*2)\n",
        "print(x,x)\n",
        "print('2'+x)\n",
        "print('[' + x + ']')"
      ]
    },
    {
      "cell_type": "code",
      "source": [
        "#Conversão de input em float, utilização da string formatada e definição de casas decimais\n",
        "\n",
        "x = float(input())\n",
        "print(f\"O numero digitado foi {x:.3f}\")\n",
        "print(f\"O numero digitado foi {x:.2f}\")\n",
        "print(f\"O numero digitado foi {x:.1f}\")\n",
        "print(f\"O numero digitado foi {x:.0f}\")\n"
      ],
      "metadata": {
        "colab": {
          "base_uri": "https://localhost:8080/"
        },
        "id": "jSIRbxJ9AzeM",
        "outputId": "0ce5d9b0-2df3-4150-9a93-73958ebf4076"
      },
      "execution_count": 4,
      "outputs": [
        {
          "output_type": "stream",
          "name": "stdout",
          "text": [
            "6\n",
            "O numero digitado foi 6.000\n",
            "O numero digitado foi 6.00\n",
            "O numero digitado foi 6.0\n",
            "O numero digitado foi 6\n"
          ]
        }
      ]
    },
    {
      "cell_type": "code",
      "source": [
        "# Calcula soma de 2 numeros\n",
        "a = float(input())\n",
        "b = float(input())\n",
        "print(f\"A soma de {a} + {b} = {a+b}\")"
      ],
      "metadata": {
        "colab": {
          "base_uri": "https://localhost:8080/"
        },
        "id": "ayf_qm2nYzt5",
        "outputId": "dca9e23b-0075-4c2f-d1a8-fc20c2fe5d0f"
      },
      "execution_count": 5,
      "outputs": [
        {
          "output_type": "stream",
          "name": "stdout",
          "text": [
            "6\n",
            "6\n",
            "A soma de 6.0 + 6.0 = 12.0\n"
          ]
        }
      ]
    },
    {
      "cell_type": "code",
      "source": [
        "#faz operação de multiplicação e divisão com dois números\n",
        "a = float(input())\n",
        "b = float(input())\n",
        "print(f\"A multiplicação de {a} * {b} = {a*b}\")\n",
        "print(f\"A divisão de {a} / {b} = {a/b}\")"
      ],
      "metadata": {
        "colab": {
          "base_uri": "https://localhost:8080/"
        },
        "id": "NZpJU29jY_2Q",
        "outputId": "fc14e4b2-d1cd-4db8-f11f-af5860bb2d2f"
      },
      "execution_count": 10,
      "outputs": [
        {
          "output_type": "stream",
          "name": "stdout",
          "text": [
            "6\n",
            "6\n",
            "A multiplicação de 6.0 * 6.0 = 36.0\n",
            "A divisão de 6.0 / 6.0 = 1.0\n"
          ]
        }
      ]
    },
    {
      "cell_type": "code",
      "source": [],
      "metadata": {
        "id": "JjnFxmuUY_pI"
      },
      "execution_count": null,
      "outputs": []
    }
  ]
}